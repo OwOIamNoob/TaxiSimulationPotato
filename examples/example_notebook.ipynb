{
 "cells": [
  {
   "cell_type": "markdown",
   "metadata": {},
   "source": [
    "# TaxiSimulation examples"
   ]
  },
  {
   "cell_type": "markdown",
   "metadata": {},
   "source": [
    "- typical import"
   ]
  },
  {
   "cell_type": "code",
   "execution_count": 1,
   "metadata": {},
   "outputs": [],
   "source": [
    "using TaxiSimulationPotato, RoutingNetworksPotato, JLD"
   ]
  },
  {
   "cell_type": "markdown",
   "metadata": {},
   "source": [
    "## Creating TaxiProblems"
   ]
  },
  {
   "cell_type": "markdown",
   "metadata": {},
   "source": [
    "The `TaxiProblem` class represents problems we are trying to solve. Its most important features are:\n",
    "- a `Network` object from the `RoutingNetworks` package, together with a `RoutingPaths` object from the same package. These types represent the static routing graph and directions that will be used by taxis. Another `RoutingPaths` object describes the costs. The hypothesis is that taxis will use shortest paths in time (and not in cost)\n",
    "- a set of `Customers` (all customers to appear)\n",
    "- a set of `Taxis` (all taxis on the map)"
   ]
  },
  {
   "cell_type": "markdown",
   "metadata": {},
   "source": [
    "###  Synthetic problems"
   ]
  },
  {
   "cell_type": "markdown",
   "metadata": {},
   "source": [
    "- We create here a typical small-sized routing problem on a synthetic city"
   ]
  },
  {
   "cell_type": "code",
   "execution_count": 32,
   "metadata": {},
   "outputs": [
    {
     "ename": "ErrorException",
     "evalue": "setfield!: immutable struct of type TaxiProblem cannot be changed",
     "output_type": "error",
     "traceback": [
      "setfield!: immutable struct of type TaxiProblem cannot be changed\n",
      "\n",
      "Stacktrace:\n",
      " [1] setproperty!(x::TaxiProblem, f::Symbol, v::Vector{Customer})\n",
      "   @ Base .\\Base.jl:39\n",
      " [2] addRandomCustomers!(pb::TaxiProblem, simTime::Float64, custNodeHour::Float64; hourFare::Float64, custWait::Float64, custCall::Float64)\n",
      "   @ TaxiSimulationPotato C:\\Users\\Admin\\.julia\\packages\\TaxiSimulationPotato\\3hyoc\\src\\taxiproblem\\randomproblem.jl:19\n",
      " [3] top-level scope\n",
      "   @ c:\\Hey! It is! You, yes! you. Please focus when you need and forget all when you dont (exclamation mark)\\ToiUuHoa\\TaxiSimulationPotato\\examples\\jl_notebook_cell_df34fa98e69747e1a8f8a730347b8e2f_X10sZmlsZQ==.jl:22"
     ]
    }
   ],
   "source": [
    "#srand(1)\n",
    "# the network\n",
    "n = urbanNetwork(8, distance=800.)\n",
    "\n",
    "# the travel-times and paths. Here with road-types maximal speeds \n",
    "# (see RoutingNetworks for more details)\n",
    "routing = roadTypeRouting(n)\n",
    "\n",
    "#usually,the costs are proportional to the times (but not necessarily)\n",
    "# here the cost is $5 per hour of driving\n",
    "costs = RoutingPaths(n, routing.times*5. / 3600.)\n",
    "\n",
    "# We create the taxi problem\n",
    "# - customerTime = nb of seconds to pickup or dropoff a customer\n",
    "# - waitingCost = nb of $ per second of a taxi waiting. (here $1/hour)\n",
    "pb = TaxiProblem(n,routing,costs,customerTime= 10., waitingCost = 1. / 3600.)\n",
    "\n",
    "# The problem is still incomplete, we need to add customer and taxis\n",
    "# we first add random customers, see `taxiproblem/randomproblem.jl` for more info\n",
    "# 1h of customer pickups, 0.35 customers per node per hour, fare = $80/hour, \n",
    "# customers can wait up to 5min after pickup time, and call 30min before\n",
    "addRandomCustomers!(pb, 3600., 0.35, hourFare=80., custWait=5.0*60, custCall= 30.0*60)\n",
    "\n",
    "# 20 uniformly distributed identical random taxis, all available at beginning of simulation\n",
    "addRandomTaxis!(pb, 20)\n",
    "\n",
    "# save this problem locally for latter use\n",
    "save(\"data/smallurb.jld\", \"pb\", pb)\n",
    "pb"
   ]
  },
  {
   "cell_type": "markdown",
   "metadata": {},
   "source": [
    "- We also create a harder medium-sized problem "
   ]
  },
  {
   "cell_type": "code",
   "execution_count": 3,
   "metadata": {},
   "outputs": [
    {
     "ename": "UndefVarError",
     "evalue": "UndefVarError: srand not defined",
     "output_type": "error",
     "traceback": [
      "UndefVarError: srand not defined\n",
      "\n",
      "Stacktrace:\n",
      " [1] top-level scope\n",
      "   @ c:\\Hey! It is! You, yes! you. Please focus when you need and forget all when you dont (exclamation mark)\\ToiUuHoa\\TaxiSimulationPotato\\examples\\jl_notebook_cell_df34fa98e69747e1a8f8a730347b8e2f_X12sZmlsZQ==.jl:1"
     ]
    }
   ],
   "source": [
    "srand(1)\n",
    "n = urbanNetwork(16, distance=300.)\n",
    "r = roadTypeRouting(n)\n",
    "costs = RoutingPaths(n,r.times*5./3600.)\n",
    "pb = TaxiProblem(n,r,costs,customerTime= 10., waitingCost = 1./3600.)\n",
    "addRandomCustomers!(pb, 3600., 0.35, hourFare=80., custWait=5.0*60, custCall= 30.0*60)\n",
    "addRandomTaxis!(pb, 55)\n",
    "pb = updateTcall(pb,60*20.0)\n",
    "pb = updateTmax(pb, 60*5.0)\n",
    "save(\"data/mediumurb.jld\", \"pb\", pb)"
   ]
  },
  {
   "cell_type": "markdown",
   "metadata": {},
   "source": [
    "### Real-world problems "
   ]
  },
  {
   "cell_type": "markdown",
   "metadata": {},
   "source": [
    "We present here the creation of a problem using Manhattan's taxi data\n",
    "\n",
    "#### Constructing real-world networks\n",
    "The first step is to create the desired routing network. This can be done with the package RoutingNetworks, from a polygon. In our case we will use the predefined MANHATTAN polygon."
   ]
  },
  {
   "cell_type": "code",
   "execution_count": 4,
   "metadata": {},
   "outputs": [],
   "source": [
    "MANHATTAN_POLY = Tuple{Float32,Float32}[(-74.01369f0,40.69977f0), (-74.00597f0,40.702637f0), (-73.99944f0,40.70641f0), (-73.991714f0,40.708492f0), (-73.9761f0,40.71044f0), (-73.96923f0,40.72931f0), (-73.973526f0,40.736073f0), (-73.9615f0,40.75402f0), (-73.941765f0,40.774693f0), (-73.94348f0,40.78223f0), (-73.938156f0,40.78535f0), (-73.93593f0,40.79029f0), (-73.928894f0,40.79432f0), (-73.92872f0,40.803024f0), (-73.93318f0,40.80744f0), (-73.9349f0,40.833942f0), (-73.92134f0,40.85745f0), (-73.91893f0,40.858356f0), (-73.913956f0,40.863678f0), (-73.909706f0,40.872345f0), (-73.91829f0,40.875168f0), (-73.92648f0,40.879192f0), (-73.93344f0,40.87244f0), (-73.933525f0,40.86793f0), (-73.943436f0,40.853584f0), (-73.947945f0,40.85164f0), (-73.94713f0,40.84414f0), (-73.9552f0,40.828682f0), (-73.96091f0,40.8205f0), (-73.97734f0,40.79864f0), (-73.98957f0,40.78077f0), (-73.996994f0,40.770725f0), (-74.00352f0,40.761368f0), (-74.01064f0,40.75103f0), (-74.01532f0,40.719486f0), (-74.01764f0,40.719063f0), (-74.02047f0,40.704067f0)];"
   ]
  },
  {
   "cell_type": "markdown",
   "metadata": {},
   "source": [
    "- get data (can take some time)"
   ]
  },
  {
   "cell_type": "code",
   "execution_count": 5,
   "metadata": {},
   "outputs": [
    {
     "ename": "UndefVarError",
     "evalue": "UndefVarError: Pkg not defined",
     "output_type": "error",
     "traceback": [
      "UndefVarError: Pkg not defined\n",
      "\n",
      "Stacktrace:\n",
      " [1] queryOsmBox(left::Float32, right::Float32, bottom::Float32, top::Float32; osmfile::String)\n",
      "   @ RoutingNetworksPotato C:\\Users\\Admin\\.julia\\packages\\RoutingNetworksPotato\\1Lwf8\\src\\creation\\query.jl:13\n",
      " [2] queryOsmPolygon(poly::Vector{Tuple{Float32, Float32}}; osmfile::String)\n",
      "   @ RoutingNetworksPotato C:\\Users\\Admin\\.julia\\packages\\RoutingNetworksPotato\\1Lwf8\\src\\creation\\query.jl:33\n",
      " [3] queryOsmPolygon(poly::Vector{Tuple{Float32, Float32}})\n",
      "   @ RoutingNetworksPotato C:\\Users\\Admin\\.julia\\packages\\RoutingNetworksPotato\\1Lwf8\\src\\creation\\query.jl:31\n",
      " [4] top-level scope\n",
      "   @ c:\\Hey! It is! You, yes! you. Please focus when you need and forget all when you dont (exclamation mark)\\ToiUuHoa\\TaxiSimulationPotato\\examples\\jl_notebook_cell_df34fa98e69747e1a8f8a730347b8e2f_X20sZmlsZQ==.jl:1"
     ]
    }
   ],
   "source": [
    "manhattanNetwork = queryOsmPolygon(MANHATTAN_POLY)"
   ]
  },
  {
   "cell_type": "markdown",
   "metadata": {},
   "source": [
    "- format the network to our need"
   ]
  },
  {
   "cell_type": "code",
   "execution_count": 6,
   "metadata": {},
   "outputs": [
    {
     "ename": "UndefVarError",
     "evalue": "UndefVarError: manhattanNetwork not defined",
     "output_type": "error",
     "traceback": [
      "UndefVarError: manhattanNetwork not defined\n",
      "\n",
      "Stacktrace:\n",
      " [1] top-level scope\n",
      "   @ c:\\Hey! It is! You, yes! you. Please focus when you need and forget all when you dont (exclamation mark)\\ToiUuHoa\\TaxiSimulationPotato\\examples\\jl_notebook_cell_df34fa98e69747e1a8f8a730347b8e2f_X22sZmlsZQ==.jl:1"
     ]
    }
   ],
   "source": [
    "manhattanNetwork = roadTypeSubset(manhattanNetwork,1:6) # only keep main driving roads\n",
    "manhattanNetwork = stronglyConnected(manhattanNetwork,1) # only keep the main connected component (hoping it's the one of node 1)\n",
    "manhattanNetwork = intersections(manhattanNetwork) # simplify enormously the network, so that each node correspond to an intersection"
   ]
  },
  {
   "cell_type": "markdown",
   "metadata": {},
   "source": [
    "- save the network to a julia JLD file for latter use"
   ]
  },
  {
   "cell_type": "code",
   "execution_count": 7,
   "metadata": {},
   "outputs": [
    {
     "ename": "UndefVarError",
     "evalue": "UndefVarError: manhattanNetwork not defined",
     "output_type": "error",
     "traceback": [
      "UndefVarError: manhattanNetwork not defined\n",
      "\n",
      "Stacktrace:\n",
      " [1] top-level scope\n",
      "   @ c:\\Hey! It is! You, yes! you. Please focus when you need and forget all when you dont (exclamation mark)\\ToiUuHoa\\TaxiSimulationPotato\\examples\\jl_notebook_cell_df34fa98e69747e1a8f8a730347b8e2f_X24sZmlsZQ==.jl:1"
     ]
    }
   ],
   "source": [
    "saveTemplate(manhattanNetwork, \"Manhattan\")"
   ]
  },
  {
   "cell_type": "markdown",
   "metadata": {},
   "source": [
    "- to load the network, just do:"
   ]
  },
  {
   "cell_type": "code",
   "execution_count": 8,
   "metadata": {},
   "outputs": [
    {
     "ename": "UndefVarError",
     "evalue": "UndefVarError: Pkg not defined",
     "output_type": "error",
     "traceback": [
      "UndefVarError: Pkg not defined\n",
      "\n",
      "Stacktrace:\n",
      " [1] loadTemplate(name::String)\n",
      "   @ RoutingNetworksPotato C:\\Users\\Admin\\.julia\\packages\\RoutingNetworksPotato\\1Lwf8\\src\\creation\\templates.jl:9\n",
      " [2] top-level scope\n",
      "   @ c:\\Hey! It is! You, yes! you. Please focus when you need and forget all when you dont (exclamation mark)\\ToiUuHoa\\TaxiSimulationPotato\\examples\\jl_notebook_cell_df34fa98e69747e1a8f8a730347b8e2f_X26sZmlsZQ==.jl:1"
     ]
    }
   ],
   "source": [
    "manhattanNetwork = loadTemplate(\"Manhattan\")\n",
    "# visualize(manhattanNetwork)"
   ]
  },
  {
   "cell_type": "code",
   "execution_count": 9,
   "metadata": {
    "collapsed": true
   },
   "outputs": [
    {
     "ename": "UndefVarError",
     "evalue": "UndefVarError: manhattanNetwork not defined",
     "output_type": "error",
     "traceback": [
      "UndefVarError: manhattanNetwork not defined\n",
      "\n",
      "Stacktrace:\n",
      " [1] top-level scope\n",
      "   @ c:\\Hey! It is! You, yes! you. Please focus when you need and forget all when you dont (exclamation mark)\\ToiUuHoa\\TaxiSimulationPotato\\examples\\jl_notebook_cell_df34fa98e69747e1a8f8a730347b8e2f_X30sZmlsZQ==.jl:1"
     ]
    }
   ],
   "source": [
    "visualize(manhattanNetwork)"
   ]
  },
  {
   "cell_type": "markdown",
   "metadata": {},
   "source": [
    "#### Getting real taxi-data\n",
    "For now, the package is able to parse and load CSVs of taxi trips from the NYC taxi and limousines commission. The CSVs can be found on their [website](http://www.nyc.gov/html/tlc/html/about/trip_record_data.shtml). The data is parsed and files can then be saved by date to simplify the reading."
   ]
  },
  {
   "cell_type": "code",
   "execution_count": 10,
   "metadata": {},
   "outputs": [
    {
     "ename": "SystemError",
     "evalue": "SystemError: opening file \"data/taxidata042016.csv\": No such file or directory",
     "output_type": "error",
     "traceback": [
      "SystemError: opening file \"data/taxidata042016.csv\": No such file or directory\n",
      "\n",
      "Stacktrace:\n",
      "  [1] systemerror(p::String, errno::Int32; extrainfo::Nothing)\n",
      "    @ Base .\\error.jl:176\n",
      "  [2] #systemerror#80\n",
      "    @ .\\error.jl:175 [inlined]\n",
      "  [3] systemerror\n",
      "    @ .\\error.jl:175 [inlined]\n",
      "  [4] open(fname::String; lock::Bool, read::Nothing, write::Bool, create::Nothing, truncate::Nothing, append::Nothing)\n",
      "    @ Base .\\iostream.jl:293\n",
      "  [5] open(f::Downloads.var\"#3#4\"{Nothing, Vector{Pair{String, String}}, Float64, Nothing, Bool, Nothing, Nothing, String}, args::String; kwargs::Base.Pairs{Symbol, Bool, Tuple{Symbol, Symbol}, NamedTuple{(:write, :lock), Tuple{Bool, Bool}}})\n",
      "    @ Base .\\io.jl:382\n",
      "  [6] #open_nolock#1\n",
      "    @ C:\\Users\\Admin\\.julia\\juliaup\\julia-1.8.5+0.x64.w64.mingw32\\share\\julia\\stdlib\\v1.8\\ArgTools\\src\\ArgTools.jl:35 [inlined]\n",
      "  [7] arg_write(f::Function, arg::String)\n",
      "    @ ArgTools C:\\Users\\Admin\\.julia\\juliaup\\julia-1.8.5+0.x64.w64.mingw32\\share\\julia\\stdlib\\v1.8\\ArgTools\\src\\ArgTools.jl:103\n",
      "  [8] #download#2\n",
      "    @ C:\\Users\\Admin\\.julia\\juliaup\\julia-1.8.5+0.x64.w64.mingw32\\share\\julia\\stdlib\\v1.8\\Downloads\\src\\Downloads.jl:230 [inlined]\n",
      "  [9] download(url::String, output::String)\n",
      "    @ Downloads C:\\Users\\Admin\\.julia\\juliaup\\julia-1.8.5+0.x64.w64.mingw32\\share\\julia\\stdlib\\v1.8\\Downloads\\src\\Downloads.jl:219\n",
      " [10] #invokelatest#2\n",
      "    @ .\\essentials.jl:729 [inlined]\n",
      " [11] invokelatest\n",
      "    @ .\\essentials.jl:726 [inlined]\n",
      " [12] do_download(url::String, path::String)\n",
      "    @ Base .\\download.jl:24\n",
      " [13] download(url::String, path::String)\n",
      "    @ Base .\\download.jl:19\n",
      " [14] top-level scope\n",
      "    @ c:\\Hey! It is! You, yes! you. Please focus when you need and forget all when you dont (exclamation mark)\\ToiUuHoa\\TaxiSimulationPotato\\examples\\jl_notebook_cell_df34fa98e69747e1a8f8a730347b8e2f_X32sZmlsZQ==.jl:3"
     ]
    }
   ],
   "source": [
    "# Download data from website (will take some time, size = 1.8gb)\n",
    "const DATA_URL_04_2016 = \"https://s3.amazonaws.com/nyc-tlc/trip+data/yellow_tripdata_2016-04.csv\"\n",
    "download(DATA_URL_04_2016, \"data/taxidata042016.csv\")"
   ]
  },
  {
   "cell_type": "code",
   "execution_count": 11,
   "metadata": {},
   "outputs": [
    {
     "ename": "UndefVarError",
     "evalue": "UndefVarError: manhattanNetwork not defined",
     "output_type": "error",
     "traceback": [
      "UndefVarError: manhattanNetwork not defined\n",
      "\n",
      "Stacktrace:\n",
      " [1] top-level scope\n",
      "   @ c:\\Hey! It is! You, yes! you. Please focus when you need and forget all when you dont (exclamation mark)\\ToiUuHoa\\TaxiSimulationPotato\\examples\\jl_notebook_cell_df34fa98e69747e1a8f8a730347b8e2f_X33sZmlsZQ==.jl:2"
     ]
    }
   ],
   "source": [
    "# Parse data\n",
    "realcustomers = loadManhattanCustomers(manhattanNetwork, \"data/taxidata042016.csv\")\n",
    "\n",
    "# Save to files (one per day)\n",
    "saveByDate(realcustomers, \"data/manhattan\")\n",
    "\n",
    "# clean a little bit\n",
    "rm(\"data/taxidata042016.csv\")"
   ]
  },
  {
   "cell_type": "markdown",
   "metadata": {},
   "source": [
    "- Finally, let's create the taxi problem"
   ]
  },
  {
   "cell_type": "code",
   "execution_count": 12,
   "metadata": {
    "collapsed": true
   },
   "outputs": [
    {
     "ename": "ArgumentError",
     "evalue": "ArgumentError: No file exists at given path: data/timingsestimates042016-0911-weekdays.jld",
     "output_type": "error",
     "traceback": [
      "ArgumentError: No file exists at given path: data/timingsestimates042016-0911-weekdays.jld\n",
      "\n",
      "Stacktrace:\n",
      " [1] checkpath_load\n",
      "   @ C:\\Users\\Admin\\.julia\\packages\\FileIO\\hCQX2\\src\\loadsave.jl:167 [inlined]\n",
      " [2] load(file::String, args::String; options::Base.Pairs{Symbol, Union{}, Tuple{}, NamedTuple{(), Tuple{}}})\n",
      "   @ FileIO C:\\Users\\Admin\\.julia\\packages\\FileIO\\hCQX2\\src\\loadsave.jl:110\n",
      " [3] load(file::String, args::String)\n",
      "   @ FileIO C:\\Users\\Admin\\.julia\\packages\\FileIO\\hCQX2\\src\\loadsave.jl:109\n",
      " [4] top-level scope\n",
      "   @ c:\\Hey! It is! You, yes! you. Please focus when you need and forget all when you dont (exclamation mark)\\ToiUuHoa\\TaxiSimulationPotato\\examples\\jl_notebook_cell_df34fa98e69747e1a8f8a730347b8e2f_X35sZmlsZQ==.jl:2"
     ]
    }
   ],
   "source": [
    "# let's get some nice routing data created using another project\n",
    "times = load(\"data/timingsestimates042016-0911-weekdays.jld\", \"times\");\n",
    "# if the previous file doe not exist, create virtual times instead:\n",
    "# times = roadTypeRouting(manhattanNetwork).times\n",
    "\n",
    "routing = RoutingPaths(manhattanNetwork, times)\n",
    "costs = RoutingPaths(manhattanNetwork, routing.times*5./3600.)\n",
    "pb = TaxiProblem(manhattanNetwork, routing, costs, customerTime=30., waitingCost = 1./3600.)\n",
    "\n",
    "# Data from Wednesday 6th of April 2016 between 9 and 10:30\n",
    "custData = load(\"data/manhattan-2016-04-06.jld\", \"customers\")\n",
    "startTime = DateTime(2016, 4, 6, 9, 0, 0)\n",
    "endTime = startTime + Dates.Minute(90)\n",
    "\n",
    "# adding 100% of the real demand\n",
    "addDataCustomers!(pb, custData, startTime, endTime, 1.0)\n",
    "\n",
    "# adding 3000 taxis with a distribution matching the customers pickups (to avoid \"border effect\")\n",
    "addDistributedTaxis!(pb, 3000)\n",
    "\n",
    "# updating customer behavior: they book between 0 and 20min earlier and wait up to 5min for a taxi.\n",
    "pb = updateTcall(pb, 60*20.0,random=true)\n",
    "pb = updateTmax(pb, 60*5.0)\n",
    "save(\"data/manhattan.jld\", \"pb\", pb)\n",
    "\n",
    "pb"
   ]
  },
  {
   "cell_type": "markdown",
   "metadata": {},
   "source": [
    "# Offline Solving\n",
    "Offline solving is about finding the optimal solution when all customers are known beforehand."
   ]
  },
  {
   "cell_type": "markdown",
   "metadata": {},
   "source": [
    "## Optimization-based solving"
   ]
  },
  {
   "cell_type": "code",
   "execution_count": 13,
   "metadata": {},
   "outputs": [
    {
     "ename": "ArgumentError",
     "evalue": "ArgumentError: Package TaxiSimulation not found in current path.\n- Run `import Pkg; Pkg.add(\"TaxiSimulation\")` to install the TaxiSimulation package.",
     "output_type": "error",
     "traceback": [
      "ArgumentError: Package TaxiSimulation not found in current path.\n",
      "- Run `import Pkg; Pkg.add(\"TaxiSimulation\")` to install the TaxiSimulation package.\n",
      "\n",
      "Stacktrace:\n",
      "  [1] macro expansion\n",
      "    @ .\\loading.jl:1163 [inlined]\n",
      "  [2] macro expansion\n",
      "    @ .\\lock.jl:223 [inlined]\n",
      "  [3] require(into::Module, mod::Symbol)\n",
      "    @ Base .\\loading.jl:1144\n",
      "  [4] eval\n",
      "    @ .\\boot.jl:368 [inlined]\n",
      "  [5] include_string(mapexpr::typeof(REPL.softscope), mod::Module, code::String, filename::String)\n",
      "    @ Base .\\loading.jl:1428\n",
      "  [6] #invokelatest#2\n",
      "    @ .\\essentials.jl:729 [inlined]\n",
      "  [7] invokelatest\n",
      "    @ .\\essentials.jl:726 [inlined]\n",
      "  [8] (::VSCodeServer.var\"#217#218\"{VSCodeServer.NotebookRunCellArguments, String})()\n",
      "    @ VSCodeServer c:\\Users\\Admin\\.vscode\\extensions\\julialang.language-julia-1.127.2\\scripts\\packages\\VSCodeServer\\src\\serve_notebook.jl:24\n",
      "  [9] withpath(f::VSCodeServer.var\"#217#218\"{VSCodeServer.NotebookRunCellArguments, String}, path::String)\n",
      "    @ VSCodeServer c:\\Users\\Admin\\.vscode\\extensions\\julialang.language-julia-1.127.2\\scripts\\packages\\VSCodeServer\\src\\repl.jl:276\n",
      " [10] notebook_runcell_request(conn::VSCodeServer.JSONRPC.JSONRPCEndpoint{Base.PipeEndpoint, Base.PipeEndpoint}, params::VSCodeServer.NotebookRunCellArguments)\n",
      "    @ VSCodeServer c:\\Users\\Admin\\.vscode\\extensions\\julialang.language-julia-1.127.2\\scripts\\packages\\VSCodeServer\\src\\serve_notebook.jl:13\n",
      " [11] dispatch_msg(x::VSCodeServer.JSONRPC.JSONRPCEndpoint{Base.PipeEndpoint, Base.PipeEndpoint}, dispatcher::VSCodeServer.JSONRPC.MsgDispatcher, msg::Dict{String, Any})\n",
      "    @ VSCodeServer.JSONRPC c:\\Users\\Admin\\.vscode\\extensions\\julialang.language-julia-1.127.2\\scripts\\packages\\JSONRPC\\src\\typed.jl:67\n",
      " [12] serve_notebook(pipename::String, debugger_pipename::String, outputchannel_logger::Base.CoreLogging.SimpleLogger; error_handler::var\"#5#10\"{String})\n",
      "    @ VSCodeServer c:\\Users\\Admin\\.vscode\\extensions\\julialang.language-julia-1.127.2\\scripts\\packages\\VSCodeServer\\src\\serve_notebook.jl:147\n",
      " [13] top-level scope\n",
      "    @ c:\\Users\\Admin\\.vscode\\extensions\\julialang.language-julia-1.127.2\\scripts\\notebook\\notebook.jl:35"
     ]
    }
   ],
   "source": [
    "using TaxiSimulation, JLD"
   ]
  },
  {
   "cell_type": "markdown",
   "metadata": {},
   "source": [
    "- We first solve the small problem to optimality, and visualize the result"
   ]
  },
  {
   "cell_type": "code",
   "execution_count": 14,
   "metadata": {},
   "outputs": [
    {
     "ename": "ArgumentError",
     "evalue": "ArgumentError: No file exists at given path: data/smallurb.jld",
     "output_type": "error",
     "traceback": [
      "ArgumentError: No file exists at given path: data/smallurb.jld\n",
      "\n",
      "Stacktrace:\n",
      " [1] checkpath_load\n",
      "   @ C:\\Users\\Admin\\.julia\\packages\\FileIO\\hCQX2\\src\\loadsave.jl:167 [inlined]\n",
      " [2] load(file::String, args::String; options::Base.Pairs{Symbol, Union{}, Tuple{}, NamedTuple{(), Tuple{}}})\n",
      "   @ FileIO C:\\Users\\Admin\\.julia\\packages\\FileIO\\hCQX2\\src\\loadsave.jl:110\n",
      " [3] load(file::String, args::String)\n",
      "   @ FileIO C:\\Users\\Admin\\.julia\\packages\\FileIO\\hCQX2\\src\\loadsave.jl:109\n",
      " [4] top-level scope\n",
      "   @ c:\\Hey! It is! You, yes! you. Please focus when you need and forget all when you dont (exclamation mark)\\ToiUuHoa\\TaxiSimulationPotato\\examples\\jl_notebook_cell_df34fa98e69747e1a8f8a730347b8e2f_X43sZmlsZQ==.jl:1"
     ]
    }
   ],
   "source": [
    "pb = load(\"data/smallurb.jld\", \"pb\")\n",
    "offlineSol = mipSolve(pb, verbose=false)"
   ]
  },
  {
   "cell_type": "markdown",
   "metadata": {},
   "source": [
    "mipSolve returns an `OfflineSolution` object. This object contains all the information to represent an offline solution. It basically contains the customers assigned to each taxi. A full `TaxiSolution` also contains all the taxi movements at any time. Full solutions can be used to visualize the result (though the conversion between the two types is implicit)\n",
    "The commands of visualization are:\n",
    "- `ARROWS` to move around\n",
    "- `Z` and `X` to move in/out\n",
    "- `A` and `S` to increase/decrease the drawing size\n",
    "- `D` to show/hide the nodes of the network\n",
    "- `Q` and `ESC` to quit\n",
    "- `W` and `E` to slow down / accelerate time\n",
    "- `R` to reverse time\n",
    "- `SPACE` to pause time\n",
    "- `click` to follow/unfollow a taxi"
   ]
  },
  {
   "cell_type": "code",
   "execution_count": 15,
   "metadata": {},
   "outputs": [
    {
     "ename": "UndefVarError",
     "evalue": "UndefVarError: offlineSol not defined",
     "output_type": "error",
     "traceback": [
      "UndefVarError: offlineSol not defined\n",
      "\n",
      "Stacktrace:\n",
      " [1] top-level scope\n",
      "   @ c:\\Hey! It is! You, yes! you. Please focus when you need and forget all when you dont (exclamation mark)\\ToiUuHoa\\TaxiSimulationPotato\\examples\\jl_notebook_cell_df34fa98e69747e1a8f8a730347b8e2f_X45sZmlsZQ==.jl:1"
     ]
    }
   ],
   "source": [
    "solution = TaxiSolution(offlineSol)\n",
    "visualize(solution)"
   ]
  },
  {
   "cell_type": "markdown",
   "metadata": {
    "collapsed": true
   },
   "source": [
    "The problem is internally converted to a network-flow problem in order to be solved. This formulation creates a graph where each node is a customer, and each directed edge represents a pair of customers that can be picked-up in a row.\n",
    "When all feasible edges are given, the solution is the optimal one. On the other hand, one can solve the problem with fewer edges for more tractability at the cost of a less optimal solution. \n",
    "\n",
    "Note that a `FlowProblem` must be fully computed (all feasible pair of customers). The graph indicates what edges we do consider.\n"
   ]
  },
  {
   "cell_type": "code",
   "execution_count": 16,
   "metadata": {},
   "outputs": [
    {
     "ename": "ArgumentError",
     "evalue": "ArgumentError: No file exists at given path: data/mediumurb.jld",
     "output_type": "error",
     "traceback": [
      "ArgumentError: No file exists at given path: data/mediumurb.jld\n",
      "\n",
      "Stacktrace:\n",
      " [1] checkpath_load\n",
      "   @ C:\\Users\\Admin\\.julia\\packages\\FileIO\\hCQX2\\src\\loadsave.jl:167 [inlined]\n",
      " [2] load(file::String, args::String; options::Base.Pairs{Symbol, Union{}, Tuple{}, NamedTuple{(), Tuple{}}})\n",
      "   @ FileIO C:\\Users\\Admin\\.julia\\packages\\FileIO\\hCQX2\\src\\loadsave.jl:110\n",
      " [3] load(file::String, args::String)\n",
      "   @ FileIO C:\\Users\\Admin\\.julia\\packages\\FileIO\\hCQX2\\src\\loadsave.jl:109\n",
      " [4] top-level scope\n",
      "   @ c:\\Hey! It is! You, yes! you. Please focus when you need and forget all when you dont (exclamation mark)\\ToiUuHoa\\TaxiSimulationPotato\\examples\\jl_notebook_cell_df34fa98e69747e1a8f8a730347b8e2f_X50sZmlsZQ==.jl:1"
     ]
    }
   ],
   "source": [
    "pb = load(\"data/mediumurb.jld\", \"pb\")\n",
    "flowPb = FlowProblem(pb)\n",
    "\n",
    "# compute heuristic score for each edge. It's a rough indicator of how good an edge is.\n",
    "scores = scoreHeuristic(pb, flowPb)\n",
    "# only select the 3 best edges for each nodes, and 10 for the taxi origin nodes\n",
    "smallerPb = kLinks(flowPb, 3, scores, firstK=10)\n",
    "\n",
    "# scores are useful to avoid recomputing everything for each new K.\n",
    "# but there is a one-liner :\n",
    "smallerPb = kLinks(pb, 2, firstK=10)\n",
    "\n",
    "\n",
    "flowSol = mipFlow(smallerPb, verbose=false)\n",
    "sol = OfflineSolution(pb, smallerPb, flowSol)\n",
    "# visualize(sol)"
   ]
  },
  {
   "cell_type": "code",
   "execution_count": 17,
   "metadata": {},
   "outputs": [
    {
     "ename": "UndefVarError",
     "evalue": "UndefVarError: sol not defined",
     "output_type": "error",
     "traceback": [
      "UndefVarError: sol not defined\n"
     ]
    }
   ],
   "source": [
    "sol"
   ]
  },
  {
   "cell_type": "markdown",
   "metadata": {},
   "source": [
    "When pick-up times are fixed, the problem becomes an LP and we can use a (fast) LP solver."
   ]
  },
  {
   "cell_type": "code",
   "execution_count": 18,
   "metadata": {},
   "outputs": [
    {
     "ename": "UndefVarError",
     "evalue": "UndefVarError: flowPb not defined",
     "output_type": "error",
     "traceback": [
      "UndefVarError: flowPb not defined\n",
      "\n",
      "Stacktrace:\n",
      " [1] top-level scope\n",
      "   @ c:\\Hey! It is! You, yes! you. Please focus when you need and forget all when you dont (exclamation mark)\\ToiUuHoa\\TaxiSimulationPotato\\examples\\jl_notebook_cell_df34fa98e69747e1a8f8a730347b8e2f_X53sZmlsZQ==.jl:2"
     ]
    }
   ],
   "source": [
    "# random pickup times (can also provide other time window)\n",
    "times = randPickupTimes(flowPb)\n",
    "\n",
    "# all pick-up as late as possible\n",
    "times = fixedPickupTimes(flowPb, 1.)\n",
    "\n",
    "sol = OfflineSolution(pb, flowPb, lpFlow(flowPb, times, verbose=false))"
   ]
  },
  {
   "cell_type": "markdown",
   "metadata": {
    "collapsed": true
   },
   "source": [
    "### Modifying a flow problem\n",
    "It is possible to add links to a `FlowProblem` object:"
   ]
  },
  {
   "cell_type": "code",
   "execution_count": 19,
   "metadata": {},
   "outputs": [
    {
     "ename": "UndefVarError",
     "evalue": "UndefVarError: pb not defined",
     "output_type": "error",
     "traceback": [
      "UndefVarError: pb not defined\n",
      "\n",
      "Stacktrace:\n",
      " [1] top-level scope\n",
      "   @ c:\\Hey! It is! You, yes! you. Please focus when you need and forget all when you dont (exclamation mark)\\ToiUuHoa\\TaxiSimulationPotato\\examples\\jl_notebook_cell_df34fa98e69747e1a8f8a730347b8e2f_X55sZmlsZQ==.jl:2"
     ]
    }
   ],
   "source": [
    "# The easier way is to start with a fully precomputed `FlowProblem`:\n",
    "flowPb = FlowProblem(pb)\n",
    "\n",
    "# Then constructing a copy (share memory!) with the edges removed\n",
    "newFlowPb = emptyFlow(flowPb)\n",
    "\n",
    "# And add the edges of a computed solution:\n",
    "flowSol = lpFlow(flowPb, fixedPickupTimes(flowPb), verbose=false)\n",
    "addLinks!(newFlowPb, flowSol)"
   ]
  },
  {
   "cell_type": "markdown",
   "metadata": {},
   "source": [
    "## Heuristics\n",
    "- Greedy insertions"
   ]
  },
  {
   "cell_type": "code",
   "execution_count": 20,
   "metadata": {},
   "outputs": [
    {
     "ename": "ArgumentError",
     "evalue": "ArgumentError: No file exists at given path: data/mediumurb.jld",
     "output_type": "error",
     "traceback": [
      "ArgumentError: No file exists at given path: data/mediumurb.jld\n",
      "\n",
      "Stacktrace:\n",
      " [1] checkpath_load\n",
      "   @ C:\\Users\\Admin\\.julia\\packages\\FileIO\\hCQX2\\src\\loadsave.jl:167 [inlined]\n",
      " [2] load(file::String, args::String; options::Base.Pairs{Symbol, Union{}, Tuple{}, NamedTuple{(), Tuple{}}})\n",
      "   @ FileIO C:\\Users\\Admin\\.julia\\packages\\FileIO\\hCQX2\\src\\loadsave.jl:110\n",
      " [3] load(file::String, args::String)\n",
      "   @ FileIO C:\\Users\\Admin\\.julia\\packages\\FileIO\\hCQX2\\src\\loadsave.jl:109\n",
      " [4] top-level scope\n",
      "   @ c:\\Hey! It is! You, yes! you. Please focus when you need and forget all when you dont (exclamation mark)\\ToiUuHoa\\TaxiSimulationPotato\\examples\\jl_notebook_cell_df34fa98e69747e1a8f8a730347b8e2f_X60sZmlsZQ==.jl:1"
     ]
    }
   ],
   "source": [
    "pb = load(\"data/mediumurb.jld\", \"pb\")\n",
    "orderedInsertions(pb) # order = tmin"
   ]
  },
  {
   "cell_type": "markdown",
   "metadata": {},
   "source": [
    "- local improvement of greedy insertions order"
   ]
  },
  {
   "cell_type": "code",
   "execution_count": 21,
   "metadata": {},
   "outputs": [
    {
     "ename": "UndefVarError",
     "evalue": "UndefVarError: pb not defined",
     "output_type": "error",
     "traceback": [
      "UndefVarError: pb not defined\n",
      "\n",
      "Stacktrace:\n",
      " [1] top-level scope\n",
      "   @ c:\\Hey! It is! You, yes! you. Please focus when you need and forget all when you dont (exclamation mark)\\ToiUuHoa\\TaxiSimulationPotato\\examples\\jl_notebook_cell_df34fa98e69747e1a8f8a730347b8e2f_X62sZmlsZQ==.jl:1"
     ]
    }
   ],
   "source": [
    "insertionsDescent(pb)"
   ]
  },
  {
   "cell_type": "markdown",
   "metadata": {},
   "source": [
    "- best of random insertions orders"
   ]
  },
  {
   "cell_type": "code",
   "execution_count": 22,
   "metadata": {},
   "outputs": [
    {
     "ename": "UndefVarError",
     "evalue": "UndefVarError: pb not defined",
     "output_type": "error",
     "traceback": [
      "UndefVarError: pb not defined\n",
      "\n",
      "Stacktrace:\n",
      " [1] top-level scope\n",
      "   @ c:\\Hey! It is! You, yes! you. Please focus when you need and forget all when you dont (exclamation mark)\\ToiUuHoa\\TaxiSimulationPotato\\examples\\jl_notebook_cell_df34fa98e69747e1a8f8a730347b8e2f_X64sZmlsZQ==.jl:1"
     ]
    }
   ],
   "source": [
    "sol = randomInsertions(pb)"
   ]
  },
  {
   "cell_type": "markdown",
   "metadata": {},
   "source": [
    "- local 2-OPT improvement of solution, with reinsertions at each step"
   ]
  },
  {
   "cell_type": "code",
   "execution_count": 23,
   "metadata": {},
   "outputs": [
    {
     "ename": "UndefVarError",
     "evalue": "UndefVarError: pb not defined",
     "output_type": "error",
     "traceback": [
      "UndefVarError: pb not defined\n",
      "\n",
      "Stacktrace:\n",
      " [1] top-level scope\n",
      "   @ c:\\Hey! It is! You, yes! you. Please focus when you need and forget all when you dont (exclamation mark)\\ToiUuHoa\\TaxiSimulationPotato\\examples\\jl_notebook_cell_df34fa98e69747e1a8f8a730347b8e2f_X66sZmlsZQ==.jl:1"
     ]
    }
   ],
   "source": [
    "localDescent(pb, sol, maxSearch=100, maxTime=20.)"
   ]
  },
  {
   "cell_type": "markdown",
   "metadata": {},
   "source": [
    "- For very large problems (eg. Manhattan), smart-search tunes the maxSearch parameter in an online way."
   ]
  },
  {
   "cell_type": "code",
   "execution_count": 24,
   "metadata": {},
   "outputs": [
    {
     "ename": "UndefVarError",
     "evalue": "UndefVarError: pb not defined",
     "output_type": "error",
     "traceback": [
      "UndefVarError: pb not defined\n",
      "\n",
      "Stacktrace:\n",
      " [1] top-level scope\n",
      "   @ c:\\Hey! It is! You, yes! you. Please focus when you need and forget all when you dont (exclamation mark)\\ToiUuHoa\\TaxiSimulationPotato\\examples\\jl_notebook_cell_df34fa98e69747e1a8f8a730347b8e2f_Y101sZmlsZQ==.jl:1"
     ]
    }
   ],
   "source": [
    "smartSearch(pb,sol)"
   ]
  },
  {
   "cell_type": "markdown",
   "metadata": {},
   "source": [
    "- Back-bone local search, uses LP to construct backbone, solve with MIP. Quite powerful"
   ]
  },
  {
   "cell_type": "code",
   "execution_count": 25,
   "metadata": {},
   "outputs": [
    {
     "ename": "UndefVarError",
     "evalue": "UndefVarError: pb not defined",
     "output_type": "error",
     "traceback": [
      "UndefVarError: pb not defined\n",
      "\n",
      "Stacktrace:\n",
      " [1] top-level scope\n",
      "   @ c:\\Hey! It is! You, yes! you. Please focus when you need and forget all when you dont (exclamation mark)\\ToiUuHoa\\TaxiSimulationPotato\\examples\\jl_notebook_cell_df34fa98e69747e1a8f8a730347b8e2f_Y103sZmlsZQ==.jl:1"
     ]
    }
   ],
   "source": [
    "backboneSearch(pb, OfflineSolution(pb), maxEdges = 1500, maxTime=300, localityRatio = 0.75)"
   ]
  },
  {
   "cell_type": "markdown",
   "metadata": {},
   "source": [
    "## Online simulations"
   ]
  },
  {
   "cell_type": "code",
   "execution_count": 26,
   "metadata": {},
   "outputs": [
    {
     "ename": "ArgumentError",
     "evalue": "ArgumentError: No file exists at given path: data/mediumurb.jld",
     "output_type": "error",
     "traceback": [
      "ArgumentError: No file exists at given path: data/mediumurb.jld\n",
      "\n",
      "Stacktrace:\n",
      " [1] checkpath_load\n",
      "   @ C:\\Users\\Admin\\.julia\\packages\\FileIO\\hCQX2\\src\\loadsave.jl:167 [inlined]\n",
      " [2] load(file::String, args::String; options::Base.Pairs{Symbol, Union{}, Tuple{}, NamedTuple{(), Tuple{}}})\n",
      "   @ FileIO C:\\Users\\Admin\\.julia\\packages\\FileIO\\hCQX2\\src\\loadsave.jl:110\n",
      " [3] load(file::String, args::String)\n",
      "   @ FileIO C:\\Users\\Admin\\.julia\\packages\\FileIO\\hCQX2\\src\\loadsave.jl:109\n",
      " [4] top-level scope\n",
      "   @ c:\\Hey! It is! You, yes! you. Please focus when you need and forget all when you dont (exclamation mark)\\ToiUuHoa\\TaxiSimulationPotato\\examples\\jl_notebook_cell_df34fa98e69747e1a8f8a730347b8e2f_Y105sZmlsZQ==.jl:1"
     ]
    }
   ],
   "source": [
    "pb = load(\"data/mediumurb.jld\", \"pb\")"
   ]
  },
  {
   "cell_type": "markdown",
   "metadata": {},
   "source": [
    "Online simulation relies on the `onlineSimulation` function, that takes a taxi problem and and feeds it to an online algorithm. Either updates the solution at a predefined time-steps or for each new customer.\n",
    "\n",
    "A general class of online algorithm are offline-planning, that maintain an inner offline solution of future moves throughout the simulation\n",
    "\n",
    "- The simplest one is `InsertOnly`, that just insert new customers into a taxi's timeline."
   ]
  },
  {
   "cell_type": "code",
   "execution_count": 27,
   "metadata": {},
   "outputs": [
    {
     "ename": "UndefVarError",
     "evalue": "UndefVarError: pb not defined",
     "output_type": "error",
     "traceback": [
      "UndefVarError: pb not defined\n",
      "\n",
      "Stacktrace:\n",
      " [1] top-level scope\n",
      "   @ c:\\Hey! It is! You, yes! you. Please focus when you need and forget all when you dont (exclamation mark)\\ToiUuHoa\\TaxiSimulationPotato\\examples\\jl_notebook_cell_df34fa98e69747e1a8f8a730347b8e2f_Y110sZmlsZQ==.jl:2"
     ]
    }
   ],
   "source": [
    "algo = InsertOnly(earliest=false)\n",
    "sol = onlineSimulation(pb, algo)\n",
    "\n",
    "# a horizon can be added:\n",
    "sol = onlineSimulation(pb, algo, horizon=60*20, verbose=false, period=30)"
   ]
  },
  {
   "cell_type": "markdown",
   "metadata": {},
   "source": [
    "- `NearestTaxi` assign the nearest free taxi to new customers, at the time they appear (pure online)"
   ]
  },
  {
   "cell_type": "code",
   "execution_count": 28,
   "metadata": {},
   "outputs": [
    {
     "ename": "UndefVarError",
     "evalue": "UndefVarError: pb not defined",
     "output_type": "error",
     "traceback": [
      "UndefVarError: pb not defined\n",
      "\n",
      "Stacktrace:\n",
      " [1] top-level scope\n",
      "   @ c:\\Hey! It is! You, yes! you. Please focus when you need and forget all when you dont (exclamation mark)\\ToiUuHoa\\TaxiSimulationPotato\\examples\\jl_notebook_cell_df34fa98e69747e1a8f8a730347b8e2f_Y112sZmlsZQ==.jl:2"
     ]
    }
   ],
   "source": [
    "algo = NearestTaxi(freeTaxiOnly=false)\n",
    "sol = onlineSimulation(pb, algo)"
   ]
  },
  {
   "cell_type": "markdown",
   "metadata": {},
   "source": [
    "- `SearchBudget` is a heuristic-based algorithm that uses an offline solver to continuously improve the solution. The time_budget parameter controls the percentage of \"simulation real-time\" that is used to find a better solution. This method can use any offline solver."
   ]
  },
  {
   "cell_type": "code",
   "execution_count": 29,
   "metadata": {},
   "outputs": [
    {
     "ename": "UndefVarError",
     "evalue": "UndefVarError: pb not defined",
     "output_type": "error",
     "traceback": [
      "UndefVarError: pb not defined\n",
      "\n",
      "Stacktrace:\n",
      " [1] top-level scope\n",
      "   @ c:\\Hey! It is! You, yes! you. Please focus when you need and forget all when you dont (exclamation mark)\\ToiUuHoa\\TaxiSimulationPotato\\examples\\jl_notebook_cell_df34fa98e69747e1a8f8a730347b8e2f_Y114sZmlsZQ==.jl:2"
     ]
    }
   ],
   "source": [
    "algo = SearchBudget(time_budget = 0.1)\n",
    "sol = onlineSimulation(pb, algo)"
   ]
  },
  {
   "cell_type": "code",
   "execution_count": 30,
   "metadata": {},
   "outputs": [
    {
     "ename": "UndefVarError",
     "evalue": "UndefVarError: pb not defined",
     "output_type": "error",
     "traceback": [
      "UndefVarError: pb not defined\n",
      "\n",
      "Stacktrace:\n",
      " [1] top-level scope\n",
      "   @ c:\\Hey! It is! You, yes! you. Please focus when you need and forget all when you dont (exclamation mark)\\ToiUuHoa\\TaxiSimulationPotato\\examples\\jl_notebook_cell_df34fa98e69747e1a8f8a730347b8e2f_Y115sZmlsZQ==.jl:7"
     ]
    }
   ],
   "source": [
    "algo = SearchBudget(\n",
    "update_solver     = (pb,init,custs,t)-> mipSolve(pb, FlowProblem(pb, collect(custs)), Nullable{OfflineSolution}(init), verbose=true),\n",
    "precompute_solver = (pb,custs)     -> mipSolve(pb, FlowProblem(pb, collect(custs)), Nullable{OfflineSolution}(), verbose=true),\n",
    "    time_budget=1.,  update_freq=60.\n",
    ")\n",
    "\n",
    "sol = onlineSimulation(pb, algo, horizon=60*20, period=30.)"
   ]
  },
  {
   "cell_type": "markdown",
   "metadata": {},
   "source": [
    "`BackbonePlanning` is a full optimization online method based on the backbone local optimization. It updates real time a graph representing the problem and constantly search for a better solution. Lots of parameters make it possible to control the space restriction, the computational time allowed, etc..."
   ]
  },
  {
   "cell_type": "code",
   "execution_count": 31,
   "metadata": {
    "collapsed": true
   },
   "outputs": [
    {
     "ename": "UndefVarError",
     "evalue": "UndefVarError: pb not defined",
     "output_type": "error",
     "traceback": [
      "UndefVarError: pb not defined\n",
      "\n",
      "Stacktrace:\n",
      " [1] top-level scope\n",
      "   @ c:\\Hey! It is! You, yes! you. Please focus when you need and forget all when you dont (exclamation mark)\\ToiUuHoa\\TaxiSimulationPotato\\examples\\jl_notebook_cell_df34fa98e69747e1a8f8a730347b8e2f_Y120sZmlsZQ==.jl:2"
     ]
    }
   ],
   "source": [
    "algo = BackbonePlanning(edgesPerNode=20, precompTime=60, iterTime=5, maxEdges = 400, maxExplorationTime = 1)\n",
    "sol = onlineSimulation(pb, algo, horizon=60*20, verbose=true, period=30)"
   ]
  }
 ],
 "metadata": {
  "kernelspec": {
   "display_name": "Julia 1.8.5",
   "language": "julia",
   "name": "julia-1.8"
  },
  "language_info": {
   "file_extension": ".jl",
   "mimetype": "application/julia",
   "name": "julia",
   "version": "1.8.5"
  }
 },
 "nbformat": 4,
 "nbformat_minor": 1
}
