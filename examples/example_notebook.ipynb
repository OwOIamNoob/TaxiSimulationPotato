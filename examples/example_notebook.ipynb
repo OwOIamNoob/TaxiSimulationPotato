{
 "cells": [
  {
   "cell_type": "markdown",
   "metadata": {},
   "source": [
    "# TaxiSimulation examples"
   ]
  },
  {
   "cell_type": "markdown",
   "metadata": {},
   "source": [
    "- typical import"
   ]
  },
  {
   "cell_type": "code",
   "execution_count": 1,
   "metadata": {},
   "outputs": [],
   "source": [
    "using TaxiSimulationPotato, RoutingNetworksPotato, JLD"
   ]
  },
  {
   "cell_type": "markdown",
   "metadata": {},
   "source": []
  },
  {
   "cell_type": "code",
   "execution_count": 2,
   "metadata": {},
   "outputs": [],
   "source": []
  },
  {
   "cell_type": "markdown",
   "metadata": {},
   "source": [
    "## Creating TaxiProblems"
   ]
  },
  {
   "cell_type": "markdown",
   "metadata": {},
   "source": [
    "The `TaxiProblem` class represents problems we are trying to solve. Its most important features are:\n",
    "- a `Network` object from the `RoutingNetworks` package, together with a `RoutingPaths` object from the same package. These types represent the static routing graph and directions that will be used by taxis. Another `RoutingPaths` object describes the costs. The hypothesis is that taxis will use shortest paths in time (and not in cost)\n",
    "- a set of `Customers` (all customers to appear)\n",
    "- a set of `Taxis` (all taxis on the map)"
   ]
  },
  {
   "cell_type": "markdown",
   "metadata": {},
   "source": [
    "###  Synthetic problems"
   ]
  },
  {
   "cell_type": "markdown",
   "metadata": {},
   "source": [
    "- We create here a typical small-sized routing problem on a synthetic city"
   ]
  },
  {
   "cell_type": "code",
   "execution_count": 2,
   "metadata": {},
   "outputs": [],
   "source": [
    "import Random"
   ]
  },
  {
   "cell_type": "code",
   "execution_count": 3,
   "metadata": {},
   "outputs": [
    {
     "data": {
      "text/plain": [
       "Taxi Problem\n",
       "City with 192 locations and 640 roads\n",
       "Simulation with 60 customers and 20 taxis for 60.00 minutes\n"
      ]
     },
     "metadata": {},
     "output_type": "display_data"
    }
   ],
   "source": [
    "Random.seed!(1)\n",
    "# the network\n",
    "n = urbanNetwork(8, distance=800.)\n",
    "\n",
    "# the travel-times and paths. Here with road-types maximal speeds \n",
    "# (see RoutingNetworks for more details)\n",
    "routing = roadTypeRouting(n)\n",
    "\n",
    "#usually,the costs are proportional to the times (but not necessarily)\n",
    "# here the cost is $5 per hour of driving\n",
    "costs = RoutingPaths(n, routing.times*5. /3600.)\n",
    "\n",
    "# We create the taxi problem\n",
    "# - customerTime = nb of seconds to pickup or dropoff a customer\n",
    "# - waitingCost = nb of $ per second of a taxi waiting. (here $1/hour)\n",
    "pb = TaxiProblem(n,routing,costs,customerTime= 10., waitingCost = 1. /3600.)\n",
    "\n",
    "# The problem is still incomplete, we need to add customer and taxis\n",
    "# we first add random customers, see `taxiproblem/randomproblem.jl` for more info\n",
    "# 1h of customer pickups, 0.35 customers per node per hour, fare = $80/hour, \n",
    "# customers can wait up to 5min after pickup time, and call 30min before\n",
    "addRandomCustomers!(pb, 3600., 0.35, hourFare=80., custWait=5.0*60, custCall= 30.0*60)\n",
    "\n",
    "# 20 uniformly distributed identical random taxis, all available at beginning of simulation\n",
    "addRandomTaxis!(pb, 20)\n",
    "\n",
    "# save this problem locally for latter use\n",
    "save(\"data/smallurb.jld\", \"pb\", pb)\n",
    "pb"
   ]
  },
  {
   "cell_type": "code",
   "execution_count": 5,
   "metadata": {},
   "outputs": [
    {
     "name": "stdout",
     "output_type": "stream",
     "text": [
      "Taxi Problem\n",
      "City with 192 locations and 640 roads\n",
      "Simulation with 60 customers and 20 taxis for 60.00 minutes\n"
     ]
    }
   ],
   "source": [
    "print(pb)"
   ]
  },
  {
   "cell_type": "markdown",
   "metadata": {},
   "source": [
    "- We also create a harder medium-sized problem "
   ]
  },
  {
   "cell_type": "code",
   "execution_count": null,
   "metadata": {},
   "outputs": [],
   "source": [
    "srand(1)\n",
    "n = urbanNetwork(16, distance=300.)\n",
    "r = roadTypeRouting(n)\n",
    "costs = RoutingPaths(n,r.times*5./3600.)\n",
    "pb = TaxiProblem(n,r,costs,customerTime= 10., waitingCost = 1./3600.)\n",
    "addRandomCustomers!(pb, 3600., 0.35, hourFare=80., custWait=5.0*60, custCall= 30.0*60)\n",
    "addRandomTaxis!(pb, 55)\n",
    "pb = updateTcall(pb,60*20.0)\n",
    "pb = updateTmax(pb, 60*5.0)\n",
    "save(\"data/mediumurb.jld\", \"pb\", pb)"
   ]
  },
  {
   "cell_type": "markdown",
   "metadata": {},
   "source": [
    "### Real-world problems "
   ]
  },
  {
   "cell_type": "markdown",
   "metadata": {},
   "source": [
    "We present here the creation of a problem using Manhattan's taxi data\n",
    "\n",
    "#### Constructing real-world networks\n",
    "The first step is to create the desired routing network. This can be done with the package RoutingNetworks, from a polygon. In our case we will use the predefined MANHATTAN polygon."
   ]
  },
  {
   "cell_type": "code",
   "execution_count": null,
   "metadata": {},
   "outputs": [],
   "source": [
    "MANHATTAN_POLY = Tuple{Float32,Float32}[(-74.01369f0,40.69977f0), (-74.00597f0,40.702637f0), (-73.99944f0,40.70641f0), (-73.991714f0,40.708492f0), (-73.9761f0,40.71044f0), (-73.96923f0,40.72931f0), (-73.973526f0,40.736073f0), (-73.9615f0,40.75402f0), (-73.941765f0,40.774693f0), (-73.94348f0,40.78223f0), (-73.938156f0,40.78535f0), (-73.93593f0,40.79029f0), (-73.928894f0,40.79432f0), (-73.92872f0,40.803024f0), (-73.93318f0,40.80744f0), (-73.9349f0,40.833942f0), (-73.92134f0,40.85745f0), (-73.91893f0,40.858356f0), (-73.913956f0,40.863678f0), (-73.909706f0,40.872345f0), (-73.91829f0,40.875168f0), (-73.92648f0,40.879192f0), (-73.93344f0,40.87244f0), (-73.933525f0,40.86793f0), (-73.943436f0,40.853584f0), (-73.947945f0,40.85164f0), (-73.94713f0,40.84414f0), (-73.9552f0,40.828682f0), (-73.96091f0,40.8205f0), (-73.97734f0,40.79864f0), (-73.98957f0,40.78077f0), (-73.996994f0,40.770725f0), (-74.00352f0,40.761368f0), (-74.01064f0,40.75103f0), (-74.01532f0,40.719486f0), (-74.01764f0,40.719063f0), (-74.02047f0,40.704067f0)];"
   ]
  },
  {
   "cell_type": "markdown",
   "metadata": {},
   "source": [
    "- get data (can take some time)"
   ]
  },
  {
   "cell_type": "code",
   "execution_count": null,
   "metadata": {},
   "outputs": [],
   "source": [
    "manhattanNetwork = queryOsmPolygon(MANHATTAN_POLY)"
   ]
  },
  {
   "cell_type": "markdown",
   "metadata": {},
   "source": [
    "- format the network to our need"
   ]
  },
  {
   "cell_type": "code",
   "execution_count": null,
   "metadata": {},
   "outputs": [],
   "source": [
    "manhattanNetwork = roadTypeSubset(manhattanNetwork,1:6) # only keep main driving roads\n",
    "manhattanNetwork = stronglyConnected(manhattanNetwork,1) # only keep the main connected component (hoping it's the one of node 1)\n",
    "manhattanNetwork = intersections(manhattanNetwork) # simplify enormously the network, so that each node correspond to an intersection"
   ]
  },
  {
   "cell_type": "markdown",
   "metadata": {},
   "source": [
    "- save the network to a julia JLD file for latter use"
   ]
  },
  {
   "cell_type": "code",
   "execution_count": null,
   "metadata": {},
   "outputs": [],
   "source": [
    "saveTemplate(manhattanNetwork, \"Manhattan\")"
   ]
  },
  {
   "cell_type": "markdown",
   "metadata": {},
   "source": [
    "- to load the network, just do:"
   ]
  },
  {
   "cell_type": "code",
   "execution_count": null,
   "metadata": {},
   "outputs": [],
   "source": [
    "manhattanNetwork = loadTemplate(\"Manhattan\")\n",
    "# visualize(manhattanNetwork)"
   ]
  },
  {
   "cell_type": "code",
   "execution_count": null,
   "metadata": {
    "collapsed": true
   },
   "outputs": [],
   "source": [
    "visualize(manhattanNetwork)"
   ]
  },
  {
   "cell_type": "markdown",
   "metadata": {},
   "source": [
    "#### Getting real taxi-data\n",
    "For now, the package is able to parse and load CSVs of taxi trips from the NYC taxi and limousines commission. The CSVs can be found on their [website](http://www.nyc.gov/html/tlc/html/about/trip_record_data.shtml). The data is parsed and files can then be saved by date to simplify the reading."
   ]
  },
  {
   "cell_type": "code",
   "execution_count": null,
   "metadata": {},
   "outputs": [],
   "source": [
    "# Download data from website (will take some time, size = 1.8gb)\n",
    "const DATA_URL_04_2016 = \"https://s3.amazonaws.com/nyc-tlc/trip+data/yellow_tripdata_2016-04.csv\"\n",
    "download(DATA_URL_04_2016, \"data/taxidata042016.csv\")"
   ]
  },
  {
   "cell_type": "code",
   "execution_count": null,
   "metadata": {},
   "outputs": [],
   "source": [
    "# Parse data\n",
    "realcustomers = loadManhattanCustomers(manhattanNetwork, \"data/taxidata042016.csv\")\n",
    "\n",
    "# Save to files (one per day)\n",
    "saveByDate(realcustomers, \"data/manhattan\")\n",
    "\n",
    "# clean a little bit\n",
    "rm(\"data/taxidata042016.csv\")"
   ]
  },
  {
   "cell_type": "markdown",
   "metadata": {},
   "source": [
    "- Finally, let's create the taxi problem"
   ]
  },
  {
   "cell_type": "code",
   "execution_count": null,
   "metadata": {
    "collapsed": true
   },
   "outputs": [],
   "source": [
    "# let's get some nice routing data created using another project\n",
    "times = load(\"data/timingsestimates042016-0911-weekdays.jld\", \"times\");\n",
    "# if the previous file doe not exist, create virtual times instead:\n",
    "# times = roadTypeRouting(manhattanNetwork).times\n",
    "\n",
    "routing = RoutingPaths(manhattanNetwork, times)\n",
    "costs = RoutingPaths(manhattanNetwork, routing.times*5./3600.)\n",
    "pb = TaxiProblem(manhattanNetwork, routing, costs, customerTime=30., waitingCost = 1./3600.)\n",
    "\n",
    "# Data from Wednesday 6th of April 2016 between 9 and 10:30\n",
    "custData = load(\"data/manhattan-2016-04-06.jld\", \"customers\")\n",
    "startTime = DateTime(2016, 4, 6, 9, 0, 0)\n",
    "endTime = startTime + Dates.Minute(90)\n",
    "\n",
    "# adding 100% of the real demand\n",
    "addDataCustomers!(pb, custData, startTime, endTime, 1.0)\n",
    "\n",
    "# adding 3000 taxis with a distribution matching the customers pickups (to avoid \"border effect\")\n",
    "addDistributedTaxis!(pb, 3000)\n",
    "\n",
    "# updating customer behavior: they book between 0 and 20min earlier and wait up to 5min for a taxi.\n",
    "pb = updateTcall(pb, 60*20.0,random=true)\n",
    "pb = updateTmax(pb, 60*5.0)\n",
    "save(\"data/manhattan.jld\", \"pb\", pb)\n",
    "\n",
    "pb"
   ]
  },
  {
   "cell_type": "markdown",
   "metadata": {},
   "source": [
    "# Offline Solving\n",
    "Offline solving is about finding the optimal solution when all customers are known beforehand."
   ]
  },
  {
   "cell_type": "markdown",
   "metadata": {},
   "source": [
    "## Optimization-based solving"
   ]
  },
  {
   "cell_type": "code",
   "execution_count": null,
   "metadata": {},
   "outputs": [],
   "source": [
    "using TaxiSimulationPotato, JLD"
   ]
  },
  {
   "cell_type": "markdown",
   "metadata": {},
   "source": [
    "- We first solve the small problem to optimality, and visualize the result"
   ]
  },
  {
   "cell_type": "code",
   "execution_count": 4,
   "metadata": {},
   "outputs": [
    {
     "name": "stdout",
     "output_type": "stream",
     "text": [
      "Set parameter Username\n"
     ]
    },
    {
     "ename": "UndefVarError",
     "evalue": "UndefVarError: e not defined",
     "output_type": "error",
     "traceback": [
      "UndefVarError: e not defined\n",
      "\n",
      "Stacktrace:\n",
      " [1] macro expansion\n",
      "   @ C:\\Users\\HP ProBook\\.julia\\packages\\MutableArithmetics\\sjjl8\\src\\rewrite.jl:340 [inlined]\n",
      " [2] macro expansion\n",
      "   @ C:\\Users\\HP ProBook\\.julia\\packages\\JuMP\\V9nZm\\src\\macros.jl:257 [inlined]\n",
      " [3] macro expansion\n",
      "   @ C:\\Users\\HP ProBook\\.julia\\packages\\JuMP\\V9nZm\\src\\macros\\@objective.jl:66 [inlined]\n",
      " [4] mipFlow(l::FlowProblem, s::Missing; verbose::Bool, method::String, solverArgs::Base.Pairs{Symbol, Union{}, Tuple{}, NamedTuple{(), Tuple{}}})\n",
      "   @ TaxiSimulationPotato F:\\uni\\tuh\\TaxiSimulationPotato\\src\\offline\\mipsolve.jl:112\n",
      " [5] #mipFlow#42\n",
      "   @ F:\\uni\\tuh\\TaxiSimulationPotato\\src\\offline\\mipsolve.jl:32 [inlined]\n",
      " [6] #mipSolve#41\n",
      "   @ F:\\uni\\tuh\\TaxiSimulationPotato\\src\\offline\\mipsolve.jl:19 [inlined]\n",
      " [7] #mipSolve#40\n",
      "   @ F:\\uni\\tuh\\TaxiSimulationPotato\\src\\offline\\mipsolve.jl:10 [inlined]\n",
      " [8] top-level scope\n",
      "   @ f:\\uni\\tuh\\TaxiSimulationPotato\\examples\\jl_notebook_cell_df34fa98e69747e1a8f8a730347b8e2f_X43sZmlsZQ==.jl:2"
     ]
    }
   ],
   "source": [
    "# pb = load(\"data/smallurb.jld\", \"pb\")\n",
    "offlineSol = mipSolve(pb, verbose=false)"
   ]
  },
  {
   "cell_type": "markdown",
   "metadata": {},
   "source": [
    "mipSolve returns an `OfflineSolution` object. This object contains all the information to represent an offline solution. It basically contains the customers assigned to each taxi. A full `TaxiSolution` also contains all the taxi movements at any time. Full solutions can be used to visualize the result (though the conversion between the two types is implicit)\n",
    "The commands of visualization are:\n",
    "- `ARROWS` to move around\n",
    "- `Z` and `X` to move in/out\n",
    "- `A` and `S` to increase/decrease the drawing size\n",
    "- `D` to show/hide the nodes of the network\n",
    "- `Q` and `ESC` to quit\n",
    "- `W` and `E` to slow down / accelerate time\n",
    "- `R` to reverse time\n",
    "- `SPACE` to pause time\n",
    "- `click` to follow/unfollow a taxi"
   ]
  },
  {
   "cell_type": "code",
   "execution_count": null,
   "metadata": {},
   "outputs": [],
   "source": [
    "solution = TaxiSolution(offlineSol)\n",
    "visualize(solution)"
   ]
  },
  {
   "cell_type": "markdown",
   "metadata": {
    "collapsed": true
   },
   "source": [
    "The problem is internally converted to a network-flow problem in order to be solved. This formulation creates a graph where each node is a customer, and each directed edge represents a pair of customers that can be picked-up in a row.\n",
    "When all feasible edges are given, the solution is the optimal one. On the other hand, one can solve the problem with fewer edges for more tractability at the cost of a less optimal solution. \n",
    "\n",
    "Note that a `FlowProblem` must be fully computed (all feasible pair of customers). The graph indicates what edges we do consider.\n"
   ]
  },
  {
   "cell_type": "code",
   "execution_count": null,
   "metadata": {},
   "outputs": [],
   "source": [
    "pb = load(\"data/mediumurb.jld\", \"pb\")\n",
    "flowPb = FlowProblem(pb)\n",
    "\n",
    "# compute heuristic score for each edge. It's a rough indicator of how good an edge is.\n",
    "scores = scoreHeuristic(pb, flowPb)\n",
    "# only select the 3 best edges for each nodes, and 10 for the taxi origin nodes\n",
    "smallerPb = kLinks(flowPb, 3, scores, firstK=10)\n",
    "\n",
    "# scores are useful to avoid recomputing everything for each new K.\n",
    "# but there is a one-liner :\n",
    "smallerPb = kLinks(pb, 2, firstK=10)\n",
    "\n",
    "\n",
    "flowSol = mipFlow(smallerPb, verbose=false)\n",
    "sol = OfflineSolution(pb, smallerPb, flowSol)\n",
    "# visualize(sol)"
   ]
  },
  {
   "cell_type": "code",
   "execution_count": null,
   "metadata": {},
   "outputs": [],
   "source": [
    "sol"
   ]
  },
  {
   "cell_type": "markdown",
   "metadata": {},
   "source": [
    "When pick-up times are fixed, the problem becomes an LP and we can use a (fast) LP solver."
   ]
  },
  {
   "cell_type": "code",
   "execution_count": null,
   "metadata": {},
   "outputs": [],
   "source": [
    "# random pickup times (can also provide other time window)\n",
    "times = randPickupTimes(flowPb)\n",
    "\n",
    "# all pick-up as late as possible\n",
    "times = fixedPickupTimes(flowPb, 1.)\n",
    "\n",
    "sol = OfflineSolution(pb, flowPb, lpFlow(flowPb, times, verbose=false))"
   ]
  },
  {
   "cell_type": "markdown",
   "metadata": {
    "collapsed": true
   },
   "source": [
    "### Modifying a flow problem\n",
    "It is possible to add links to a `FlowProblem` object:"
   ]
  },
  {
   "cell_type": "code",
   "execution_count": null,
   "metadata": {},
   "outputs": [],
   "source": [
    "# The easier way is to start with a fully precomputed `FlowProblem`:\n",
    "flowPb = FlowProblem(pb)\n",
    "\n",
    "# Then constructing a copy (share memory!) with the edges removed\n",
    "newFlowPb = emptyFlow(flowPb)\n",
    "\n",
    "# And add the edges of a computed solution:\n",
    "flowSol = lpFlow(flowPb, fixedPickupTimes(flowPb), verbose=false)\n",
    "addLinks!(newFlowPb, flowSol)"
   ]
  },
  {
   "cell_type": "markdown",
   "metadata": {},
   "source": [
    "## Heuristics\n",
    "- Greedy insertions"
   ]
  },
  {
   "cell_type": "code",
   "execution_count": null,
   "metadata": {},
   "outputs": [],
   "source": [
    "pb = load(\"data/mediumurb.jld\", \"pb\")\n",
    "orderedInsertions(pb) # order = tmin"
   ]
  },
  {
   "cell_type": "markdown",
   "metadata": {},
   "source": [
    "- local improvement of greedy insertions order"
   ]
  },
  {
   "cell_type": "code",
   "execution_count": null,
   "metadata": {},
   "outputs": [],
   "source": [
    "insertionsDescent(pb)"
   ]
  },
  {
   "cell_type": "markdown",
   "metadata": {},
   "source": [
    "- best of random insertions orders"
   ]
  },
  {
   "cell_type": "code",
   "execution_count": null,
   "metadata": {},
   "outputs": [],
   "source": [
    "sol = randomInsertions(pb)"
   ]
  },
  {
   "cell_type": "markdown",
   "metadata": {},
   "source": [
    "- local 2-OPT improvement of solution, with reinsertions at each step"
   ]
  },
  {
   "cell_type": "code",
   "execution_count": null,
   "metadata": {},
   "outputs": [],
   "source": [
    "localDescent(pb, sol, maxSearch=100, maxTime=20.)"
   ]
  },
  {
   "cell_type": "markdown",
   "metadata": {},
   "source": [
    "- For very large problems (eg. Manhattan), smart-search tunes the maxSearch parameter in an online way."
   ]
  },
  {
   "cell_type": "code",
   "execution_count": null,
   "metadata": {},
   "outputs": [],
   "source": [
    "smartSearch(pb,sol)"
   ]
  },
  {
   "cell_type": "markdown",
   "metadata": {},
   "source": [
    "- Back-bone local search, uses LP to construct backbone, solve with MIP. Quite powerful"
   ]
  },
  {
   "cell_type": "code",
   "execution_count": null,
   "metadata": {},
   "outputs": [],
   "source": [
    "backboneSearch(pb, OfflineSolution(pb), maxEdges = 1500, maxTime=300, localityRatio = 0.75)"
   ]
  },
  {
   "cell_type": "markdown",
   "metadata": {},
   "source": [
    "## Online simulations"
   ]
  },
  {
   "cell_type": "code",
   "execution_count": null,
   "metadata": {},
   "outputs": [],
   "source": [
    "pb = load(\"data/mediumurb.jld\", \"pb\")"
   ]
  },
  {
   "cell_type": "markdown",
   "metadata": {},
   "source": [
    "Online simulation relies on the `onlineSimulation` function, that takes a taxi problem and and feeds it to an online algorithm. Either updates the solution at a predefined time-steps or for each new customer.\n",
    "\n",
    "A general class of online algorithm are offline-planning, that maintain an inner offline solution of future moves throughout the simulation\n",
    "\n",
    "- The simplest one is `InsertOnly`, that just insert new customers into a taxi's timeline."
   ]
  },
  {
   "cell_type": "code",
   "execution_count": null,
   "metadata": {},
   "outputs": [],
   "source": [
    "algo = InsertOnly(earliest=false)\n",
    "sol = onlineSimulation(pb, algo)\n",
    "\n",
    "# a horizon can be added:\n",
    "sol = onlineSimulation(pb, algo, horizon=60*20, verbose=false, period=30)"
   ]
  },
  {
   "cell_type": "markdown",
   "metadata": {},
   "source": [
    "- `NearestTaxi` assign the nearest free taxi to new customers, at the time they appear (pure online)"
   ]
  },
  {
   "cell_type": "code",
   "execution_count": null,
   "metadata": {},
   "outputs": [],
   "source": [
    "algo = NearestTaxi(freeTaxiOnly=false)\n",
    "sol = onlineSimulation(pb, algo)"
   ]
  },
  {
   "cell_type": "markdown",
   "metadata": {},
   "source": [
    "- `SearchBudget` is a heuristic-based algorithm that uses an offline solver to continuously improve the solution. The time_budget parameter controls the percentage of \"simulation real-time\" that is used to find a better solution. This method can use any offline solver."
   ]
  },
  {
   "cell_type": "code",
   "execution_count": null,
   "metadata": {},
   "outputs": [],
   "source": [
    "algo = SearchBudget(time_budget = 0.1)\n",
    "sol = onlineSimulation(pb, algo)"
   ]
  },
  {
   "cell_type": "code",
   "execution_count": null,
   "metadata": {},
   "outputs": [],
   "source": [
    "algo = SearchBudget(\n",
    "update_solver     = (pb,init,custs,t)-> mipSolve(pb, FlowProblem(pb, collect(custs)), Nullable{OfflineSolution}(init), verbose=true),\n",
    "precompute_solver = (pb,custs)     -> mipSolve(pb, FlowProblem(pb, collect(custs)), Nullable{OfflineSolution}(), verbose=true),\n",
    "    time_budget=1.,  update_freq=60.\n",
    ")\n",
    "\n",
    "sol = onlineSimulation(pb, algo, horizon=60*20, period=30.)"
   ]
  },
  {
   "cell_type": "markdown",
   "metadata": {},
   "source": [
    "`BackbonePlanning` is a full optimization online method based on the backbone local optimization. It updates real time a graph representing the problem and constantly search for a better solution. Lots of parameters make it possible to control the space restriction, the computational time allowed, etc..."
   ]
  },
  {
   "cell_type": "code",
   "execution_count": null,
   "metadata": {
    "collapsed": true
   },
   "outputs": [],
   "source": [
    "algo = BackbonePlanning(edgesPerNode=20, precompTime=60, iterTime=5, maxEdges = 400, maxExplorationTime = 1)\n",
    "sol = onlineSimulation(pb, algo, horizon=60*20, verbose=true, period=30)"
   ]
  }
 ],
 "metadata": {
  "kernelspec": {
   "display_name": "Julia 1.8.5",
   "language": "julia",
   "name": "julia-1.8"
  },
  "language_info": {
   "file_extension": ".jl",
   "mimetype": "application/julia",
   "name": "julia",
   "version": "1.8.5"
  }
 },
 "nbformat": 4,
 "nbformat_minor": 1
}
